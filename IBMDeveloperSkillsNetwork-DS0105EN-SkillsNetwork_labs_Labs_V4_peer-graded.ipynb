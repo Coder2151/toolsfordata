{
  "metadata": {
    "language_info": {
      "codemirror_mode": {
        "name": "python",
        "version": 3
      },
      "file_extension": ".py",
      "mimetype": "text/x-python",
      "name": "python",
      "nbconvert_exporter": "python",
      "pygments_lexer": "ipython3",
      "version": "3.8"
    },
    "kernelspec": {
      "name": "python",
      "display_name": "Pyolite",
      "language": "python"
    }
  },
  "nbformat_minor": 4,
  "nbformat": 4,
  "cells": [
    {
      "cell_type": "markdown",
      "source": "# Aarush's Peer-Graded Jupyter Notebook",
      "metadata": {}
    },
    {
      "cell_type": "markdown",
      "source": "## Introduction\n\nWelcome to this notebook! In this notebook, we will explore various topics related to Data Science. We will delve into different concepts, provide code examples, and discuss key ideas along the way.\n\nThe goal of this notebook is to provide a comprehensive testament of my understanding of JupyterNotebooks in DataScience. \n",
      "metadata": {}
    },
    {
      "cell_type": "markdown",
      "source": "### Data Science Languages\n\n- \"Python\"\n- \"R\"\n- \"Julia\"\n- \"SQL\"\n- \"Scala\"\n- \"MATLAB\"\n",
      "metadata": {}
    },
    {
      "cell_type": "markdown",
      "source": "### Data Science Libraries\n\n- NumPy\n- Pandas\n- Matplotlib\n- Seaborn\n- Scikit-learn\n- TensorFlow\n- PyTorch\n- Keras\n",
      "metadata": {}
    },
    {
      "cell_type": "markdown",
      "source": "### Data Science Tools\n\n| Tool        | Description                                                |\n|-------------|------------------------------------------------------------|\n| Jupyter Notebook | Interactive development environment for data analysis |\n| RStudio     | Integrated development environment for R programming         |\n| Anaconda    | Distribution of Python and R for data science               |\n| Tableau     | Data visualization and business intelligence platform       |\n| Git         | Version control system for tracking code changes            |\n| Docker      | Platform for containerization and deployment of applications|\n| Apache Spark | Distributed computing framework for big data processing     |\n| Hadoop      | Framework for distributed storage and processing of big data|\n",
      "metadata": {}
    },
    {
      "cell_type": "markdown",
      "source": "## Arithmetic Expression Examples\n\nArithmetic expressions are mathematical expressions that involve numerical operations such as addition, subtraction, multiplication, and division. They are commonly used in programming and data analysis. Let's look at some examples of arithmetic expressions:\n\n1. Addition: `2 + 4 = 6`\n2. Subtraction: `7 - 2 = 5`\n3. Multiplication: `5 * 7 = 35`\n4. Division: `10 / 5 = 2`\n\nArithmetic expressions can also include parentheses to control the order of operations. For example:\n\n- Expression: `(4 + 3) * 3`\n- Result: `7 * 2 = 14`\n\nThese are just basic examples, and arithmetic expressions can become more complex with the use of variables, functions, and more advanced mathematical operations. Understanding arithmetic expressions is fundamental in many areas of data science and programming.\n",
      "metadata": {}
    },
    {
      "cell_type": "code",
      "source": "# Multiply and Add Numbers\nno_1 = 3\nno_2 = 8\n\nmultiplication = no_1 * no_2\naddition = no_1 + no_2\n\nprint(\"Multiplication Result:\", multiplication)\nprint(\"Addition Result:\", addition)\n",
      "metadata": {
        "trusted": true
      },
      "execution_count": 8,
      "outputs": [
        {
          "name": "stdout",
          "text": "Multiplication Result: 24\nAddition Result: 11\n",
          "output_type": "stream"
        }
      ]
    },
    {
      "cell_type": "code",
      "source": "# Convert Minutes to Hours\nminutes = 180\n\nhours = minutes / 60\n\nprint(\"Minutes:\", minutes)\nprint(\"Hours:\", hours)",
      "metadata": {
        "trusted": true
      },
      "execution_count": 11,
      "outputs": [
        {
          "name": "stdout",
          "text": "Minutes: 180\nHours: 3.0\n",
          "output_type": "stream"
        }
      ]
    },
    {
      "cell_type": "markdown",
      "source": "### Objectives\n\n- Gain a solid understanding of data science concepts and techniques.\n- Learn how to preprocess and analyze data using various libraries and tools.\n- Develop skills in machine learning algorithms and model evaluation.\n- Explore data visualization techniques for effective communication.\n- Understand the importance of feature engineering and dimensionality reduction.\n- Learn how to interpret and communicate the results of data analysis.\n   ",
      "metadata": {}
    },
    {
      "cell_type": "markdown",
      "source": "Author: Aarush Shetty\n",
      "metadata": {}
    },
    {
      "cell_type": "code",
      "source": "",
      "metadata": {},
      "execution_count": null,
      "outputs": []
    }
  ]
}